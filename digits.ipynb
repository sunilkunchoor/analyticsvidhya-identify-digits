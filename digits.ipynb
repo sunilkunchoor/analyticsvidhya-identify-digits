{
 "cells": [
  {
   "cell_type": "markdown",
   "metadata": {},
   "source": [
    "# Identify the Digits"
   ]
  },
  {
   "cell_type": "markdown",
   "metadata": {},
   "source": [
    "This problem is taken from https://datahack.analyticsvidhya.com/contest/practice-problem-identify-the-digits/. "
   ]
  },
  {
   "cell_type": "code",
   "execution_count": 1,
   "metadata": {},
   "outputs": [
    {
     "name": "stderr",
     "output_type": "stream",
     "text": [
      "Using TensorFlow backend.\n"
     ]
    }
   ],
   "source": [
    "# Importing libraries\n",
    "import pandas as pd\n",
    "import os\n",
    "import numpy as np\n",
    "\n",
    "# Importing the Keras libraries and packages\n",
    "from keras.models import Sequential\n",
    "from keras.models import load_model\n",
    "from keras.layers import Convolution2D #Change to Conv2D if doesn't work\n",
    "from keras.layers import MaxPooling2D\n",
    "from keras.layers import Flatten\n",
    "from keras.layers import Dense"
   ]
  },
  {
   "cell_type": "code",
   "execution_count": 2,
   "metadata": {},
   "outputs": [],
   "source": [
    "# Loading dataset\n",
    "dataset = pd.read_csv('data/train.csv')\n",
    "# file_names = list(dataset['filename'].values)\n",
    "# img_labels = list(dataset['label'].values)\n",
    "X = dataset.iloc[:,0:1]\n",
    "Y = dataset.iloc[:,1:2]\n",
    "\n",
    "# test_dataset = pd.read_csv('data/test.csv')\n",
    "# X_test = test_dataset.iloc[:,0:1]"
   ]
  },
  {
   "cell_type": "code",
   "execution_count": 3,
   "metadata": {},
   "outputs": [],
   "source": [
    "# Path of train and test folder\n",
    "TRAIN_PATH = 'data/images/train/' \n",
    "TEST_PATH = 'data/images/test/'"
   ]
  },
  {
   "cell_type": "code",
   "execution_count": 4,
   "metadata": {},
   "outputs": [
    {
     "name": "stdout",
     "output_type": "stream",
     "text": [
      "  filename\n",
      "0    0.png\n",
      "1    1.png\n",
      "2    2.png\n",
      "3    3.png\n",
      "4    4.png\n",
      "   label\n",
      "0      4\n",
      "1      9\n",
      "2      1\n",
      "3      7\n",
      "4      3\n"
     ]
    }
   ],
   "source": [
    "# Create training data set\n",
    "X_train = X[:40000]\n",
    "Y_train = Y[:40000]\n",
    "\n",
    "# Create cross-validation set\n",
    "X_dev = X[40000:42000]\n",
    "Y_dev = Y[40000:42000]\n",
    "\n",
    "print(X_train.head())\n",
    "print(Y_train.head())\n",
    "X_train = X[:40000]\n",
    "Y_train = Y[:40000]"
   ]
  },
  {
   "cell_type": "code",
   "execution_count": 5,
   "metadata": {},
   "outputs": [],
   "source": [
    "# Plotting the numbers to check.\n",
    "import matplotlib.pyplot as plt\n",
    "import matplotlib.image as mpimg\n",
    "for n in range(1,10):\n",
    "    plt.subplot(1,10,n)\n",
    "    img=mpimg.imread(TRAIN_PATH+X_train.iloc[n][0])\n",
    "    plt.imshow(img,cmap='gray')\n",
    "    plt.title(Y_train.iloc[n][0])"
   ]
  },
  {
   "cell_type": "code",
   "execution_count": 6,
   "metadata": {},
   "outputs": [
    {
     "name": "stdout",
     "output_type": "stream",
     "text": [
      "data/images/train/1.png\n"
     ]
    }
   ],
   "source": [
    "print(TRAIN_PATH+X_train.filename.values[1])"
   ]
  },
  {
   "cell_type": "code",
   "execution_count": 7,
   "metadata": {},
   "outputs": [
    {
     "name": "stdout",
     "output_type": "stream",
     "text": [
      "number of training examples = 40000\n",
      "number of cross-validation examples = 2000\n",
      "X_train shape: (40000, 1)\n",
      "Y_train shape: (40000, 1)\n",
      "X_dev shape: (2000, 1)\n",
      "Y_dev shape: (2000, 1)\n"
     ]
    }
   ],
   "source": [
    "print (\"number of training examples = \" + str(X_train.shape[0]))\n",
    "print (\"number of cross-validation examples = \" + str(X_dev.shape[0]))\n",
    "print (\"X_train shape: \" + str(X_train.shape))\n",
    "print (\"Y_train shape: \" + str(Y_train.shape))\n",
    "print (\"X_dev shape: \" + str(X_dev.shape))\n",
    "print (\"Y_dev shape: \" + str(Y_dev.shape))"
   ]
  },
  {
   "cell_type": "code",
   "execution_count": 11,
   "metadata": {},
   "outputs": [],
   "source": [
    "# defining a function to read images\n",
    "from keras.preprocessing import image\n",
    "from PIL import Image\n",
    "def read_img(img_path):\n",
    "    img = image.load_img(img_path, target_size=(224, 224, 3))\n",
    "    img = image.img_to_array(img)\n",
    "\n",
    "# reading the images\n",
    "import cv2\n",
    "train_img = []\n",
    "for img_path in X_train.filename.values:\n",
    "    train_img.append(read_img(TRAIN_PATH+img_path))"
   ]
  },
  {
   "cell_type": "code",
   "execution_count": 14,
   "metadata": {},
   "outputs": [
    {
     "name": "stdout",
     "output_type": "stream",
     "text": [
      "None\n"
     ]
    }
   ],
   "source": [
    "print(train_img[1])"
   ]
  },
  {
   "cell_type": "code",
   "execution_count": null,
   "metadata": {
    "collapsed": true
   },
   "outputs": [],
   "source": [
    "model = Sequential()\n",
    "model.add(Dense(32, activation='relu', input_dim=784))\n",
    "model.add(Dense(16, activation='relu'))\n",
    "model.add(Dense(10, activation='softmax'))"
   ]
  },
  {
   "cell_type": "code",
   "execution_count": null,
   "metadata": {
    "collapsed": true
   },
   "outputs": [],
   "source": [
    "model.compile(optimizer='Adam',loss='categorical_crossentropy', metrics=['accuracy'])"
   ]
  },
  {
   "cell_type": "code",
   "execution_count": null,
   "metadata": {
    "collapsed": true
   },
   "outputs": [],
   "source": [
    "model.fit(X_train.values, Y_train.values, epochs=20, batch_size=64,verbose=2,\n",
    "          validation_data=(X_dev.values, Y_dev.values))"
   ]
  }
 ],
 "metadata": {
  "kernelspec": {
   "display_name": "Python 3",
   "language": "python",
   "name": "python3"
  },
  "language_info": {
   "codemirror_mode": {
    "name": "ipython",
    "version": 3
   },
   "file_extension": ".py",
   "mimetype": "text/x-python",
   "name": "python",
   "nbconvert_exporter": "python",
   "pygments_lexer": "ipython3",
   "version": "3.6.8"
  }
 },
 "nbformat": 4,
 "nbformat_minor": 2
}
